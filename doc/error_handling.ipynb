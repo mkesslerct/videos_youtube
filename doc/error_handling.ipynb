{
 "metadata": {
  "language_info": {
   "codemirror_mode": {
    "name": "ipython",
    "version": 3
   },
   "file_extension": ".py",
   "mimetype": "text/x-python",
   "name": "python",
   "nbconvert_exporter": "python",
   "pygments_lexer": "ipython3",
   "version": "3.7.4-final"
  },
  "orig_nbformat": 2,
  "kernelspec": {
   "name": "python_defaultSpec_1598801632302",
   "display_name": "Python 3.7.4 64-bit ('base': conda)"
  }
 },
 "nbformat": 4,
 "nbformat_minor": 2,
 "cells": [
  {
   "cell_type": "markdown",
   "metadata": {},
   "source": [
    "# Error handling\n",
    "[Video Corey Shafer, Using Try/Except Blocks for Error Handling](https://youtu.be/NIWwJbo-9_8)"
   ]
  },
  {
   "cell_type": "markdown",
   "metadata": {},
   "source": [
    "In order to anticipate errors in our code, and present more readable and informative message errors to the user."
   ]
  },
  {
   "cell_type": "code",
   "execution_count": 1,
   "metadata": {},
   "outputs": [
    {
     "output_type": "error",
     "ename": "FileNotFoundError",
     "evalue": "[Errno 2] No such file or directory: '../testt.txt'",
     "traceback": [
      "\u001b[1;31m---------------------------------------------------------------------------\u001b[0m",
      "\u001b[1;31mFileNotFoundError\u001b[0m                         Traceback (most recent call last)",
      "\u001b[1;32m<ipython-input-1-268c6f820b3f>\u001b[0m in \u001b[0;36m<module>\u001b[1;34m\u001b[0m\n\u001b[1;32m----> 1\u001b[1;33m \u001b[1;32mwith\u001b[0m \u001b[0mopen\u001b[0m\u001b[1;33m(\u001b[0m\u001b[1;34m'../testt.txt'\u001b[0m\u001b[1;33m)\u001b[0m \u001b[1;32mas\u001b[0m \u001b[0mf\u001b[0m\u001b[1;33m:\u001b[0m\u001b[1;33m\u001b[0m\u001b[1;33m\u001b[0m\u001b[0m\n\u001b[0m\u001b[0;32m      2\u001b[0m     \u001b[0mprint\u001b[0m\u001b[1;33m(\u001b[0m\u001b[0mf\u001b[0m\u001b[1;33m.\u001b[0m\u001b[0mname\u001b[0m\u001b[1;33m)\u001b[0m\u001b[1;33m\u001b[0m\u001b[1;33m\u001b[0m\u001b[0m\n",
      "\u001b[1;31mFileNotFoundError\u001b[0m: [Errno 2] No such file or directory: '../testt.txt'"
     ]
    }
   ],
   "source": [
    "with open('../testt.txt') as f:\n",
    "    print(f.name)"
   ]
  },
  {
   "cell_type": "code",
   "execution_count": 2,
   "metadata": {
    "tags": []
   },
   "outputs": [
    {
     "output_type": "stream",
     "name": "stdout",
     "text": "Sorry the file does not exist\n"
    }
   ],
   "source": [
    "try:\n",
    "    with open('../testt.txt') as f:\n",
    "        print(f.name)\n",
    "except Exception:\n",
    "    print('Sorry the file does not exist')"
   ]
  },
  {
   "cell_type": "markdown",
   "metadata": {},
   "source": [
    "The `Exception` keyword catches all exceptions, which is not informative enough, and may be incorrect. "
   ]
  },
  {
   "cell_type": "code",
   "execution_count": 3,
   "metadata": {
    "tags": []
   },
   "outputs": [
    {
     "output_type": "stream",
     "name": "stdout",
     "text": "Sorry the file does not exist\n"
    }
   ],
   "source": [
    "try:\n",
    "    with open('../test.txt') as f:\n",
    "        print(f.name)\n",
    "        var = bad_var\n",
    "except Exception:\n",
    "    print('Sorry the file does not exist')"
   ]
  },
  {
   "cell_type": "markdown",
   "metadata": {},
   "source": [
    "The error was due to the fact that the bad_var object does not exist, but the thrown exception message is the same, in that case incorrect message. It is therefore important to concrete the exceptions that can be caught, leaving \"Exception\" for a general exception. Several `except` blocks can be included, the order being important."
   ]
  },
  {
   "cell_type": "code",
   "execution_count": null,
   "metadata": {},
   "outputs": [],
   "source": [
    "try:\n",
    "    with open('../test.txt') as f:\n",
    "        print(f.name)\n",
    "        var = bad_var\n",
    "except FileNotFoundError:\n",
    "    print('Sorry the file does not exist')\n",
    "except Exception:\n",
    "    print('Sorry, something got wrong')"
   ]
  },
  {
   "cell_type": "markdown",
   "metadata": {},
   "source": [
    "The `else` clause only runs if you don't run into an exception, while the `finally` clause always runs. It is for example useful to make sure that you properly close things, for example database, regardless whether the code is successful or not.\n",
    "The idea is to put code in the `else` clause instead of within the `try` block in order to better identify exceptions.\n"
   ]
  },
  {
   "cell_type": "code",
   "execution_count": 2,
   "metadata": {
    "tags": []
   },
   "outputs": [
    {
     "output_type": "stream",
     "name": "stdout",
     "text": "[Errno 2] No such file or directory: '../data/testt.txt'\nClosing database...\n"
    }
   ],
   "source": [
    "try:\n",
    "    f =  open('../data/testt.txt', 'r', encoding='utf8')\n",
    "except FileNotFoundError as e:\n",
    "    print(e)\n",
    "except Exception:\n",
    "    print(\"Sorry, something got wrong\")\n",
    "else:\n",
    "    f_contents = f.read()\n",
    "    print(f_contents)\n",
    "finally:\n",
    "    print(\"Closing database...\")"
   ]
  },
  {
   "cell_type": "markdown",
   "metadata": {},
   "source": [
    "You can also raise manually an exception, using `raise`"
   ]
  },
  {
   "cell_type": "code",
   "execution_count": 6,
   "metadata": {
    "tags": []
   },
   "outputs": [
    {
     "output_type": "stream",
     "name": "stdout",
     "text": "The FileNotFoundError was caught, after being raised manually\nClosing database...\n"
    }
   ],
   "source": [
    "try:\n",
    "    f =  open('../data/test.txt', 'r', encoding='utf8')\n",
    "    if f.name == \"../data/test.txt\":\n",
    "        raise FileNotFoundError\n",
    "except FileNotFoundError:\n",
    "    print(\"The FileNotFoundError was caught, after being raised manually\")\n",
    "except Exception:\n",
    "    print(\"Sorry, something got wrong\")\n",
    "else:\n",
    "    f_contents = f.read()\n",
    "    print(f_contents)\n",
    "finally:\n",
    "    print(\"Closing database...\")"
   ]
  },
  {
   "cell_type": "code",
   "execution_count": null,
   "metadata": {},
   "outputs": [],
   "source": []
  }
 ]
}