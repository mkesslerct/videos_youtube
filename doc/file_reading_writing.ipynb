{
 "metadata": {
  "language_info": {
   "codemirror_mode": {
    "name": "ipython",
    "version": 3
   },
   "file_extension": ".py",
   "mimetype": "text/x-python",
   "name": "python",
   "nbconvert_exporter": "python",
   "pygments_lexer": "ipython3",
   "version": "3.7.4-final"
  },
  "orig_nbformat": 2,
  "kernelspec": {
   "name": "python_defaultSpec_1598799596391",
   "display_name": "Python 3.7.4 64-bit ('base': conda)"
  }
 },
 "nbformat": 4,
 "nbformat_minor": 2,
 "cells": [
  {
   "cell_type": "markdown",
   "metadata": {},
   "source": [
    "# File objects, reading and writing to files\n",
    "[Video Corey Shafer](https://youtu.be/Uh2ebFW8OYM)\n",
    "\n",
    "Recommended way to work with files: `with` context because it closes the file when going out of the context."
   ]
  },
  {
   "cell_type": "code",
   "execution_count": 1,
   "metadata": {
    "tags": []
   },
   "outputs": [
    {
     "output_type": "stream",
     "name": "stdout",
     "text": "../data/test.txt\n"
    }
   ],
   "source": [
    "with open('../data/test.txt', 'r') as f:\n",
    "    print(f.name)"
   ]
  },
  {
   "cell_type": "markdown",
   "metadata": {},
   "source": [
    "You can also use the attribute `mode` or `closed`"
   ]
  },
  {
   "cell_type": "markdown",
   "metadata": {},
   "source": [
    "> Note: you can specify the mode as a character string: `'r'`, `'w'`, `'a'` (append), but you can also indicate `'r+'` (read + write) or `'a+'` (append + read)"
   ]
  },
  {
   "cell_type": "code",
   "execution_count": 2,
   "metadata": {
    "tags": []
   },
   "outputs": [
    {
     "output_type": "stream",
     "name": "stdout",
     "text": "r\nFalse\nTrue\n"
    }
   ],
   "source": [
    "with open('../data/test.txt', 'r') as f:\n",
    "    print(f.mode)\n",
    "    print(f.closed)\n",
    "print(f.closed)"
   ]
  },
  {
   "cell_type": "markdown",
   "metadata": {},
   "source": [
    "In order to access the contents of the file, you can use the methods `read`, `readlines` or `readline`.\n",
    "`read` reads the whole content of the file, so does `readlines` which stores each line in a list. `readline` reads one line at a time"
   ]
  },
  {
   "cell_type": "code",
   "execution_count": 3,
   "metadata": {
    "tags": []
   },
   "outputs": [
    {
     "output_type": "stream",
     "name": "stdout",
     "text": "1 primera línea\n2 segunda línea\n3 tercera línea\n"
    }
   ],
   "source": [
    "with open('../data/test.txt', 'r', encoding='utf8') as f:\n",
    "   f_contents = f.read()\n",
    "   print(f_contents)"
   ]
  },
  {
   "cell_type": "code",
   "execution_count": 4,
   "metadata": {
    "tags": []
   },
   "outputs": [
    {
     "output_type": "stream",
     "name": "stdout",
     "text": "['1 primera línea\\n', '2 segunda línea\\n', '3 tercera línea']\n"
    }
   ],
   "source": [
    "with open('../data/test.txt', 'r', encoding='utf8') as f:\n",
    "   f_contents = f.readlines()\n",
    "   print(f_contents)"
   ]
  },
  {
   "cell_type": "code",
   "execution_count": 5,
   "metadata": {
    "tags": []
   },
   "outputs": [
    {
     "output_type": "stream",
     "name": "stdout",
     "text": "1 primera línea\n\n"
    }
   ],
   "source": [
    "with open('../data/test.txt', 'r', encoding='utf8') as f:\n",
    "   f_contents = f.readline()\n",
    "   print(f_contents)"
   ]
  },
  {
   "cell_type": "markdown",
   "metadata": {},
   "source": [
    "In read, you can indicate the number of characters to read"
   ]
  },
  {
   "cell_type": "code",
   "execution_count": 6,
   "metadata": {
    "tags": []
   },
   "outputs": [
    {
     "output_type": "stream",
     "name": "stdout",
     "text": "1 primera línea\n2 se\n"
    }
   ],
   "source": [
    "with open('../data/test.txt', 'r', encoding='utf8') as f:\n",
    "   f_contents = f.read(20)\n",
    "   print(f_contents)"
   ]
  },
  {
   "cell_type": "markdown",
   "metadata": {},
   "source": [
    "It is therefore possible to read chunk by chunk a file:"
   ]
  },
  {
   "cell_type": "code",
   "execution_count": 7,
   "metadata": {
    "tags": []
   },
   "outputs": [
    {
     "output_type": "stream",
     "name": "stdout",
     "text": "1 primera *línea\n2 se*gunda líne*a\n3 tercer*a línea*"
    }
   ],
   "source": [
    "with open('../data/test.txt', 'r', encoding='utf8') as f:\n",
    "    size_to_read = 10\n",
    "    f_contents = f.read(size_to_read)\n",
    "    while len(f_contents) > 0:\n",
    "        print(f_contents, end='*')    \n",
    "        f_contents = f.read(size_to_read)\n"
   ]
  },
  {
   "cell_type": "code",
   "execution_count": 8,
   "metadata": {},
   "outputs": [],
   "source": [
    "with open('../data/test.txt', 'r', encoding='utf8') as rf:\n",
    "    with open('../data/test_copy.txt', 'w', encoding='utf8') as wf:\n",
    "        for line in rf:\n",
    "            wf.write(line)\n"
   ]
  },
  {
   "cell_type": "markdown",
   "metadata": {},
   "source": [
    "In order to copy an image, you should use `'rb'` and `'wb'` to specificy that you are reading binary data"
   ]
  }
 ]
}